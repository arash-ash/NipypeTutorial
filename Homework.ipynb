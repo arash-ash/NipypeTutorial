{
 "cells": [
  {
   "cell_type": "markdown",
   "metadata": {},
   "source": [
    "| <span style=\"font-size:larger;\">PSYC 521-405: Principles of Functional Magnetic Resonance Imaging</span> |\n",
    "|:-------------------------------------------------------------------------------------------------------:|\n",
    "| **GLM Analysis Homework Assignemt** |"
   ]
  },
  {
   "cell_type": "markdown",
   "metadata": {},
   "source": [
    "# Problem Assignemt\n",
    "You shall create and run a GLM analysis workflow with *Nipype* library as shown in the class and deomostrated in this [Notebook](analysis_pipeline.ipynb). However, to make your job eaiser, we provided the preproced functional images in the **datasink** directory so you don't have to run the preprocessing workflow.\n",
    "\n",
    "We have divided the assignemt into following sections which consists of tasks that you will complete and explain.\n",
    "\n",
    "1. [Imports of modules](#Imports)\n",
    "2. [Specify Nodes for the main workflow](#Specify-Nodes-for-the-main-workflow)\n",
    "3. [Specify GLM contrasts](#Specify-GLM-contrasts)\n",
    "4. [Specify GLM Model](#Specify-GLM-Model)\n",
    "5. [Specify input and output stream\n",
    "](#Specify-input-and-output-stream)\n",
    "6. [Specify Workflow](#Specify-Workflow)\n",
    "7. [Visualize the workflow](#Visualize-the-workflow)\n",
    "8. [Run the Workflow](#Run-the-Workflow)\n",
    "9. [Visualize Results](#Visualize-Results)\n",
    "\n",
    "You will be graded based on your **modified code for the tasks**, and **answers** to the questions. Also you have to **add comments** where ever you make changes. \n",
    "\n",
    "Feel free to discuss the assigment with your friends but **do not share your code**! \n",
    "\n",
    "**Warning**: If you are using Binder to work on the assignment, you should Download your notebook to your computer before giving a break. Because if Binder session is not used for couple of miniutes, it will diconnect and when you connect back, all your changes are gone! but if you have download it before, then you can upload it and continue working on it.\n",
    "If you want to avoid this hassle, you can run it locally by fowllowing [Docker instruction](#Docker-instruction).\n",
    "\n",
    "Now let's begin..."
   ]
  },
  {
   "cell_type": "markdown",
   "metadata": {},
   "source": [
    "# Imports\n",
    "First, we need to import all modules we later want to use."
   ]
  },
  {
   "cell_type": "code",
   "execution_count": null,
   "metadata": {},
   "outputs": [],
   "source": []
  },
  {
   "cell_type": "markdown",
   "metadata": {},
   "source": [
    "## Specify Nodes for the main workflow\n",
    "Instantiate all the different interfaces (represented as nodes) that you want to use in your workflow.\n",
    "You should use these ones\n",
    "1. Extract onset times of stimuli from TVA file\n",
    "2. Specify the model (TR, high pass filter, onset times, etc.)\n",
    "3. Specify contrasts to compute\n",
    "4. Estimate contrasts"
   ]
  },
  {
   "cell_type": "code",
   "execution_count": null,
   "metadata": {},
   "outputs": [],
   "source": []
  },
  {
   "cell_type": "markdown",
   "metadata": {},
   "source": [
    "# Specify GLM contrasts\n",
    "Define your contrasts similar to how it is defined in the [Notebook](analysis_pipeline.ipynb).\n",
    "\n",
    "**Task**: add a contrast that tests voxels which respond to both left **and** right conditions ( i.e., a conjunction contrast)."
   ]
  },
  {
   "cell_type": "code",
   "execution_count": null,
   "metadata": {},
   "outputs": [],
   "source": []
  },
  {
   "cell_type": "markdown",
   "metadata": {},
   "source": [
    "# Specify GLM Model\n",
    "The next step is now to get information such as stimuli onset, duration and other regressors into the GLM model. For this we need to create a helper function, in our case called ``subjectinfo``.\n",
    "\n",
    "**Note**: since since the helper function will be defined as a node, all imports and variables should be redefined inside it."
   ]
  },
  {
   "cell_type": "code",
   "execution_count": null,
   "metadata": {},
   "outputs": [],
   "source": []
  },
  {
   "cell_type": "markdown",
   "metadata": {},
   "source": [
    "# Specify input and output stream\n",
    "\n",
    "Specify where the input data can be found & where and how to save the output data.\n",
    "\n",
    "**Task**: You need to change the file templates according to the new naming convention and location of the preprocessed data. Specificically, you need to change the templates for the funtional images and the motion parameter"
   ]
  },
  {
   "cell_type": "code",
   "execution_count": null,
   "metadata": {},
   "outputs": [],
   "source": []
  },
  {
   "cell_type": "markdown",
   "metadata": {},
   "source": [
    "# Specify Workflow\n",
    "Create a workflow and connect the interface nodes and the I/O stream to each other.\n",
    "\n",
    "**Task:** You should remove the Gunzip connection from the corresponding code in the tutorial notebook since the provided functioanl and anatomical images are not compressed (.nii files as opposed to nii.gz filles)."
   ]
  },
  {
   "cell_type": "code",
   "execution_count": null,
   "metadata": {},
   "outputs": [],
   "source": []
  },
  {
   "cell_type": "markdown",
   "metadata": {},
   "source": [
    "# Visualize the workflow\n",
    "\n",
    "visualize the workflow with both the simple and detailed graph."
   ]
  },
  {
   "cell_type": "code",
   "execution_count": null,
   "metadata": {},
   "outputs": [],
   "source": []
  },
  {
   "cell_type": "markdown",
   "metadata": {},
   "source": [
    "#  Run the Workflow\n",
    "\n",
    "Now that everything is ready, we can run the 1st-level analysis workflow. Change ``n_procs`` to the number of jobs/cores you want to use."
   ]
  },
  {
   "cell_type": "code",
   "execution_count": null,
   "metadata": {},
   "outputs": [],
   "source": []
  },
  {
   "cell_type": "markdown",
   "metadata": {},
   "source": [
    "# Visualize Results"
   ]
  },
  {
   "cell_type": "markdown",
   "metadata": {},
   "source": [
    "## Question 1\n",
    "Calculuate the T and F thresholds by applying Bonferroni familywise error correction(FWE) such that it is equivalent to a corrected p=0.05 threshold.\n",
    "\n",
    "To apply Bonferroni FWE, simply divide the desired p-threshold by the number of tests (i.e., number of masked voxel), and you’ll maintain correct control over the FWE rate.\n",
    "\n",
    "Note that you can write beautiful `LaTex` equations here like this:\n",
    "$$ e^{j\\pi}-1=0 $$"
   ]
  },
  {
   "cell_type": "markdown",
   "metadata": {},
   "source": [
    "-"
   ]
  },
  {
   "cell_type": "markdown",
   "metadata": {},
   "source": [
    "Now Let's look at the contrasts that we've just computed using the anatomical coregistration.\n",
    "\n",
    "**Task**: Plot all the contrasts for each run with the calculated thresholds."
   ]
  },
  {
   "cell_type": "code",
   "execution_count": null,
   "metadata": {},
   "outputs": [],
   "source": []
  },
  {
   "cell_type": "markdown",
   "metadata": {},
   "source": [
    "## Question 2\n",
    "What differences do you see between the F and correspoding T contrast results? What is the difference between T and F contrasts in general?"
   ]
  },
  {
   "cell_type": "markdown",
   "metadata": {},
   "source": [
    "-"
   ]
  },
  {
   "cell_type": "markdown",
   "metadata": {},
   "source": [
    "## Question 3\n",
    "Interpret the results with your expectation and previous results obtained in the [Notebook](analysis_pipeline.ipynb)."
   ]
  },
  {
   "cell_type": "markdown",
   "metadata": {},
   "source": [
    "-"
   ]
  },
  {
   "cell_type": "markdown",
   "metadata": {},
   "source": [
    "# Submission\n",
    "**Finally** you should export your notebook from `File` then `Export Notebook As` then `Export Notebook to HTML`. Then you should convert it to a PDF (you could use https://html2pdf.com/) and submit it to Moodle.\n",
    "\n",
    "Feel free to contact Arash for clarifications via his email:\n",
    "arash.ashrafnejad@gmail.com"
   ]
  },
  {
   "cell_type": "markdown",
   "metadata": {},
   "source": [
    "***"
   ]
  },
  {
   "cell_type": "markdown",
   "metadata": {},
   "source": [
    "| <span style=\"font-size:larger;\">Docker Installation and Usage</span> |\n",
    "|:--------------------------------------------------------------------:|\n",
    "| **For the serious Nipype user!** |\n",
    "\n",
    "# Docker instruction\n",
    "If you would like to run a Github repository which contains a Docker image on your local computer or your own server rather than Binder you can follow these steps.\n",
    "Assuming you have installed Docker (if not, see [Docker Installation](#Docker-Installation)).\n",
    "\n",
    "1. Download the github repository: https://github.com/arash-ash/NipypeTutorial/archive/master.zip\n",
    "2. Unzip it\n",
    "\n",
    "Alternative to these steps you could *clone* it using *git*, \n",
    "\n",
    "`git clone https://github.com/arash-ash/NipypeTutorial.git`\n",
    "\n",
    "3. Open Terminal and go to directory\n",
    "\n",
    "`cd NipypeTutorial`\n",
    "\n",
    "4. change any files or the Dockar image conten\n",
    "\n",
    "5. Build the container from Docker image and give a name to it so you can run it later (you only need to do this at first time and then when the Docker image or files are changed).\n",
    "\n",
    "`sudo docker build -t nipype_workspace .`\n",
    "\n",
    "6. Run the built container and assign a port for JupyterLab\n",
    "\n",
    "`sudo docker run -it -p 8888:8888 nipype_workspace`"
   ]
  },
  {
   "cell_type": "markdown",
   "metadata": {},
   "source": [
    "# Docker Installation\n",
    "\n",
    "You can follow the installation procedures for Mac here: https://docs.docker.com/docker-for-mac/ and for Windowns here: https://docs.docker.com/docker-for-windows/\n",
    "And for Ubuntu is included here."
   ]
  },
  {
   "cell_type": "markdown",
   "metadata": {},
   "source": [
    "## Get Docker CE for Ubuntu\n",
    "\n",
    "To get started with Docker CE on Ubuntu, make sure you\n",
    "[meet the prerequisites](#prerequisites), then\n",
    "[install Docker](#install-docker-ce).\n",
    "\n",
    "## Prerequisites\n",
    "\n",
    "### OS requirements\n",
    "\n",
    "To install Docker CE, you need the 64-bit version of one of these Ubuntu\n",
    "versions:\n",
    "\n",
    "- Bionic 18.04 (LTS)\n",
    "- Xenial 16.04 (LTS)\n",
    "- Trusty 14.04 (LTS)\n",
    "\n",
    "Docker CE is supported on Ubuntu on `x86_64`, `armhf`, `s390x` (IBM Z), and `ppc64le` (IBM Power) architectures.\n",
    "\n",
    "> **`ppc64le` and `s390x` limitations**: Packages for IBM Z and Power architectures are only available on Ubuntu Xenial and above.\n",
    "\n",
    "### Uninstall old versions\n",
    "\n",
    "Older versions of Docker were called `docker` or `docker-engine`. If these are\n",
    "installed, uninstall them:\n",
    "\n",
    "```bash\n",
    "$ sudo apt-get remove docker docker-engine docker.io\n",
    "```\n",
    "\n",
    "It's OK if `apt-get` reports that none of these packages are installed.\n",
    "\n",
    "The contents of `/var/lib/docker/`, including images, containers, volumes, and\n",
    "networks, are preserved. The Docker CE package is now called `docker-ce`."
   ]
  },
  {
   "cell_type": "markdown",
   "metadata": {},
   "source": [
    "### Install using the repository\n",
    "\n",
    "Before you install Docker CE for the first time on a new host machine, you need to\n",
    "set up the Docker repository. Afterward, you can install and update Docker from\n",
    "the repository.\n",
    "\n",
    "#### Set up the repository\n",
    "\n",
    "1.  Update the `apt` package index:\n",
    "\n",
    "    ```bash\n",
    "    $ sudo apt-get update\n",
    "    ```\n",
    "\n",
    "2.  Install packages to allow `apt` to use a repository over HTTPS:\n",
    "\n",
    "    ```bash\n",
    "    $ sudo apt-get install \\\n",
    "        apt-transport-https \\\n",
    "        ca-certificates \\\n",
    "        curl \\\n",
    "        software-properties-common\n",
    "    ```\n",
    "\n",
    "3.  Add Docker's official GPG key:\n",
    "\n",
    "    ```bash\n",
    "    $ curl -fsSL {{ download-url-base }}/gpg | sudo apt-key add -\n",
    "    ```\n",
    "\n",
    "    Verify that you now have the key with the fingerprint\n",
    "    `9DC8 5822 9FC7 DD38 854A  E2D8 8D81 803C 0EBF CD88`, by searching for the\n",
    "    last 8 characters of the fingerprint.\n",
    "\n",
    "    ```bash\n",
    "    $ sudo apt-key fingerprint 0EBFCD88\n",
    "\n",
    "    pub   4096R/0EBFCD88 2017-02-22\n",
    "          Key fingerprint = 9DC8 5822 9FC7 DD38 854A  E2D8 8D81 803C 0EBF CD88\n",
    "    uid                  Docker Release (CE deb) <docker@docker.com>\n",
    "    sub   4096R/F273FCD8 2017-02-22\n",
    "    ```\n",
    "\n",
    "4.  Use the following command to set up the **stable** repository. You always\n",
    "    need the **stable** repository, even if you want to install builds from the\n",
    "    **edge** or **test** repositories as well. To add the **edge** or\n",
    "    **test** repository, add the word `edge` or `test` (or both) after the\n",
    "    word `stable` in the commands below.\n",
    "    \n",
    "    ```bash\n",
    "    $ sudo add-apt-repository \\\n",
    "        \"deb [arch=amd64] https://download.docker.com/linux/ubuntu \\\n",
    "         $(lsb_release -cs) \\\n",
    "         stable\"\n",
    "    ```\n",
    "    \n",
    "#### Install Docker CE\n",
    "\n",
    "1.  Update the `apt` package index.\n",
    "\n",
    "    ```bash\n",
    "    $ sudo apt-get update\n",
    "    ```\n",
    "\n",
    "2.  Install the _latest version_ of Docker CE, or go to the next step to install a specific version:\n",
    "\n",
    "    ```bash\n",
    "    $ sudo apt-get install docker-ce\n",
    "    ```\n",
    "\n",
    "    > Got multiple Docker repositories?\n",
    "    >\n",
    "    > If you have multiple Docker repositories enabled, installing\n",
    "    > or updating without specifying a version in the `apt-get install` or\n",
    "    > `apt-get update` command always installs the highest possible version,\n",
    "    > which may not be appropriate for your stability needs.\n",
    "\n",
    "3.  To install a _specific version_ of Docker CE, list the available versions in the repo, then select and install:\n",
    "\n",
    "    a. List the versions available in your repo:\n",
    "\n",
    "    ```bash\n",
    "    $ apt-cache madison docker-ce\n",
    "\n",
    "    docker-ce | {{ site.docker_ce_stable_version }}.0~ce-0~ubuntu | {{ download-url-base }} xenial/stable amd64 Packages\n",
    "    ```\n",
    "\n",
    "    b. Install a specific version by its fully qualified package name, which is\n",
    "       package name (`docker-ce`) \"=\" version string (2nd column), for example,\n",
    "       `docker-ce=18.03.0~ce-0~ubuntu`.\n",
    "\n",
    "    ```bash\n",
    "    $ sudo apt-get install docker-ce=<VERSION>\n",
    "    ```\n",
    "\n",
    "    The Docker daemon starts automatically.\n",
    "\n",
    "4.  Verify that Docker CE is installed correctly by running the `hello-world`\n",
    "    image.\n",
    "\n",
    "    ```bash\n",
    "    $ sudo docker run hello-world\n",
    "    ```\n",
    "\n",
    "    This command downloads a test image and runs it in a container. When the\n",
    "    container runs, it prints an informational message and exits.\n",
    "\n",
    "Docker CE is installed and running. The `docker` group is created but no users\n",
    "are added to it. You need to use `sudo` to run Docker commands.\n",
    "Continue to next section to allow\n",
    "non-privileged users to run Docker commands."
   ]
  },
  {
   "cell_type": "markdown",
   "metadata": {},
   "source": [
    "## Manage Docker as a non-root user (optional)\n",
    "\n",
    "The Docker daemon binds to a Unix socket instead of a TCP port. By default\n",
    "that Unix socket is owned by the user `root` and other users can only access it\n",
    "using `sudo`. The Docker daemon always runs as the `root` user.\n",
    "\n",
    "If you don't want to preface the `docker` command with `sudo`, create a Unix\n",
    "group called `docker` and add users to it. When the Docker daemon starts, it\n",
    "creates a Unix socket accessible by members of the `docker` group.\n",
    "\n",
    "> Warning\n",
    ">\n",
    "> The `docker` group grants privileges equivalent to the `root`\n",
    "> user. For details on how this impacts security in your system, see\n",
    "> [*Docker Daemon Attack Surface*](/engine/security/security.md#docker-daemon-attack-surface).\n",
    "{: .warning}\n",
    "\n",
    "To create the `docker` group and add your user:\n",
    "\n",
    "1.  Create the `docker` group.\n",
    "\n",
    "    ```bash\n",
    "    $ sudo groupadd docker\n",
    "    ```\n",
    "\n",
    "2.  Add your user to the `docker` group.\n",
    "\n",
    "    ```bash\n",
    "    $ sudo usermod -aG docker $USER\n",
    "    ```\n",
    "\n",
    "3.  Log out and log back in so that your group membership is re-evaluated.\n",
    "\n",
    "    If testing on a virtual machine, it may be necessary to restart the virtual machine for changes to take effect.\n",
    "\n",
    "    On a desktop Linux environment such as X Windows, log out of your session completely and then log back in.\n",
    "\n",
    "4.  Verify that you can run `docker` commands without `sudo`.\n",
    "\n",
    "    ```bash\n",
    "    $ docker run hello-world\n",
    "    ```\n",
    "\n",
    "    This command downloads a test image and runs it in a container. When the\n",
    "    container runs, it prints an informational message and exits.\n",
    "\n",
    "    If you initially ran Docker CLI commands using `sudo` before adding\n",
    "    your user to the `docker` group, you may see the following error,\n",
    "    which indicates that your `~/.docker/` directory was created with\n",
    "    incorrect permissions due to the `sudo` commands.\n",
    "\n",
    "    ```none\n",
    "    WARNING: Error loading config file: /home/user/.docker/config.json -\n",
    "    stat /home/user/.docker/config.json: permission denied\n",
    "    ```\n",
    "\n",
    "    To fix this problem, either remove the `~/.docker/` directory\n",
    "    (it is recreated automatically, but any custom settings\n",
    "    are lost), or change its ownership and permissions using the\n",
    "    following commands:\n",
    "\n",
    "    ```bash\n",
    "    $ sudo chown \"$USER\":\"$USER\" /home/\"$USER\"/.docker -R\n",
    "    $ sudo chmod g+rwx \"$HOME/.docker\" -R\n",
    "    ```"
   ]
  },
  {
   "cell_type": "code",
   "execution_count": null,
   "metadata": {},
   "outputs": [],
   "source": []
  }
 ],
 "metadata": {
  "kernelspec": {
   "display_name": "Python 3",
   "language": "python",
   "name": "python3"
  },
  "language_info": {
   "codemirror_mode": {
    "name": "ipython",
    "version": 3
   },
   "file_extension": ".py",
   "mimetype": "text/x-python",
   "name": "python",
   "nbconvert_exporter": "python",
   "pygments_lexer": "ipython3",
   "version": "3.6.7"
  }
 },
 "nbformat": 4,
 "nbformat_minor": 2
}
